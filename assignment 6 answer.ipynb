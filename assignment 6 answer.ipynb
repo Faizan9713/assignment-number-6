{
 "cells": [
  {
   "cell_type": "code",
   "execution_count": 1,
   "id": "d4869cd2",
   "metadata": {},
   "outputs": [],
   "source": [
    "#1. What are escape characters, and how do you use them?\n",
    "\n",
    "ans = escape charecters represent the string values that would\n",
    "otherwise be difficult or impossible to type into code \n",
    "\n",
    "its used by the help of backslash \\\n",
    "for \\n for new line \n",
    "\\t for tab"
   ]
  },
  {
   "cell_type": "code",
   "execution_count": null,
   "id": "6b52de88",
   "metadata": {},
   "outputs": [],
   "source": [
    "#2. What do the escape characters n and t stand for?\n",
    "\n",
    "ans = n is stand for new line \n",
    "and t stand for tab "
   ]
  },
  {
   "cell_type": "code",
   "execution_count": null,
   "id": "a307bf44",
   "metadata": {},
   "outputs": [],
   "source": [
    "# 3. What is the way to include backslash characters in a string?\n",
    "\n",
    "ans = if you want to include character itself ,  you need to add \n",
    "two backslashes or use @ verbatim \n",
    "\n",
    "\"\\\\n\", \"\"@\\new\""
   ]
  },
  {
   "cell_type": "code",
   "execution_count": null,
   "id": "ef458c0d",
   "metadata": {},
   "outputs": [],
   "source": [
    "4. The string 'Howl's Moving Castle' is a correct value.\n",
    "Why isn't the single quote character in the\n",
    "word Howl' s not escaped a problem?\n",
    "\n",
    "ans = The single quote in Howl's is fine because you've\n",
    " used double quotes to mark the beginning and \n",
    "end of the string."
   ]
  },
  {
   "cell_type": "code",
   "execution_count": null,
   "id": "a894be30",
   "metadata": {},
   "outputs": [],
   "source": [
    "#5. How do you write a string of newlines\n",
    "#if you don't want to use the n character?\n",
    "\n",
    "ans = \"\"\"  \"\"\"  Multiline strings allow \n",
    "you to use newlines in strings without the \\n escape character."
   ]
  },
  {
   "cell_type": "code",
   "execution_count": null,
   "id": "2ab8f859",
   "metadata": {},
   "outputs": [],
   "source": [
    "6. What are the values of the given expressions?\n",
    "'Hello, world!'[1]\n",
    "'Hello, world!'[0:5]\n",
    "'Hello, world!'[:5]\n",
    "'Hello, world!'[3:]\n"
   ]
  },
  {
   "cell_type": "code",
   "execution_count": 2,
   "id": "9d4dcc0d",
   "metadata": {},
   "outputs": [
    {
     "data": {
      "text/plain": [
       "'e'"
      ]
     },
     "execution_count": 2,
     "metadata": {},
     "output_type": "execute_result"
    }
   ],
   "source": [
    "'Hello, world!'[1] # its give index value "
   ]
  },
  {
   "cell_type": "code",
   "execution_count": 3,
   "id": "e5193e9a",
   "metadata": {},
   "outputs": [
    {
     "data": {
      "text/plain": [
       "'Hello'"
      ]
     },
     "execution_count": 3,
     "metadata": {},
     "output_type": "execute_result"
    }
   ],
   "source": [
    "'Hello, world!'[0:5] # its print index value 0 to 5"
   ]
  },
  {
   "cell_type": "code",
   "execution_count": 4,
   "id": "814151bb",
   "metadata": {},
   "outputs": [
    {
     "data": {
      "text/plain": [
       "'Hello'"
      ]
     },
     "execution_count": 4,
     "metadata": {},
     "output_type": "execute_result"
    }
   ],
   "source": [
    "'Hello, world!'[:5] # its print starting 5 values "
   ]
  },
  {
   "cell_type": "code",
   "execution_count": 5,
   "id": "46e917b7",
   "metadata": {},
   "outputs": [
    {
     "data": {
      "text/plain": [
       "'lo, world!'"
      ]
     },
     "execution_count": 5,
     "metadata": {},
     "output_type": "execute_result"
    }
   ],
   "source": [
    "'Hello, world!'[3:] # it leave 0 to 3 values and print all values"
   ]
  },
  {
   "cell_type": "code",
   "execution_count": null,
   "id": "4d68c73d",
   "metadata": {},
   "outputs": [],
   "source": [
    "7. What are the values of the following expressions?\n",
    "'Hello'.upper()\n",
    "'Hello'.upper().isupper()\n",
    "'Hello'.upper().lower()"
   ]
  },
  {
   "cell_type": "code",
   "execution_count": 6,
   "id": "e2454d23",
   "metadata": {},
   "outputs": [
    {
     "data": {
      "text/plain": [
       "'HELLO'"
      ]
     },
     "execution_count": 6,
     "metadata": {},
     "output_type": "execute_result"
    }
   ],
   "source": [
    "'Hello'.upper() # it gives capital latter"
   ]
  },
  {
   "cell_type": "code",
   "execution_count": 7,
   "id": "1848478f",
   "metadata": {},
   "outputs": [
    {
     "data": {
      "text/plain": [
       "True"
      ]
     },
     "execution_count": 7,
     "metadata": {},
     "output_type": "execute_result"
    }
   ],
   "source": [
    "'Hello'.upper().isupper() "
   ]
  },
  {
   "cell_type": "code",
   "execution_count": 8,
   "id": "4f1e4d39",
   "metadata": {},
   "outputs": [
    {
     "data": {
      "text/plain": [
       "'hello'"
      ]
     },
     "execution_count": 8,
     "metadata": {},
     "output_type": "execute_result"
    }
   ],
   "source": [
    "'Hello'.upper().lower() # it gives all small "
   ]
  },
  {
   "cell_type": "code",
   "execution_count": null,
   "id": "b33cf015",
   "metadata": {},
   "outputs": [],
   "source": [
    "8. What are the values of the following expressions?\n",
    "'Remember, remember, the fifth of July.'.split()\n",
    "'-'.join('There can only one.'.split())"
   ]
  },
  {
   "cell_type": "code",
   "execution_count": null,
   "id": "21334c51",
   "metadata": {},
   "outputs": [],
   "source": [
    "ans  = "
   ]
  },
  {
   "cell_type": "code",
   "execution_count": 9,
   "id": "b29294c0",
   "metadata": {},
   "outputs": [
    {
     "data": {
      "text/plain": [
       "['Remember,', 'remember,', 'the', 'fifth', 'of', 'July.']"
      ]
     },
     "execution_count": 9,
     "metadata": {},
     "output_type": "execute_result"
    }
   ],
   "source": [
    "'Remember, remember, the fifth of July.'.split() "
   ]
  },
  {
   "cell_type": "code",
   "execution_count": 10,
   "id": "ed13700e",
   "metadata": {},
   "outputs": [
    {
     "data": {
      "text/plain": [
       "'There-can-only-one.'"
      ]
     },
     "execution_count": 10,
     "metadata": {},
     "output_type": "execute_result"
    }
   ],
   "source": [
    "'-'.join('There can only one.'.split())"
   ]
  },
  {
   "cell_type": "code",
   "execution_count": 11,
   "id": "650db526",
   "metadata": {},
   "outputs": [],
   "source": [
    "# 9. What are the methods for right-justifying, left-justifying,\n",
    "# and centering a string?\n",
    "\n",
    "The rjust()\n",
    "ljust()\n",
    "and center() \n",
    "string methods, respectively"
   ]
  },
  {
   "cell_type": "code",
   "execution_count": null,
   "id": "537d4c66",
   "metadata": {},
   "outputs": [],
   "source": [
    "#10. What is the best way to remove whitespace characters\n",
    "#from the start or end?"
   ]
  },
  {
   "cell_type": "code",
   "execution_count": null,
   "id": "2ec6cd8e",
   "metadata": {},
   "outputs": [],
   "source": [
    "ans = by the help of lstrip() and rstrip()\n",
    "is to use to remove the \n",
    "whitespace from left and right ends of a string"
   ]
  },
  {
   "cell_type": "code",
   "execution_count": null,
   "id": "16540522",
   "metadata": {},
   "outputs": [],
   "source": []
  },
  {
   "cell_type": "code",
   "execution_count": null,
   "id": "c2c3ee98",
   "metadata": {},
   "outputs": [],
   "source": []
  },
  {
   "cell_type": "code",
   "execution_count": null,
   "id": "b82a62a1",
   "metadata": {},
   "outputs": [],
   "source": []
  },
  {
   "cell_type": "code",
   "execution_count": null,
   "id": "33d5d9ff",
   "metadata": {},
   "outputs": [],
   "source": []
  },
  {
   "cell_type": "code",
   "execution_count": null,
   "id": "934719c7",
   "metadata": {},
   "outputs": [],
   "source": []
  }
 ],
 "metadata": {
  "kernelspec": {
   "display_name": "Python 3 (ipykernel)",
   "language": "python",
   "name": "python3"
  },
  "language_info": {
   "codemirror_mode": {
    "name": "ipython",
    "version": 3
   },
   "file_extension": ".py",
   "mimetype": "text/x-python",
   "name": "python",
   "nbconvert_exporter": "python",
   "pygments_lexer": "ipython3",
   "version": "3.9.12"
  }
 },
 "nbformat": 4,
 "nbformat_minor": 5
}
